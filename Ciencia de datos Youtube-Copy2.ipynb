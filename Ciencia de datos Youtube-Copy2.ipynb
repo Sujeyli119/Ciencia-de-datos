{
 "cells": [
  {
   "cell_type": "code",
   "execution_count": 108,
   "id": "95d46f92",
   "metadata": {},
   "outputs": [],
   "source": [
    "import pandas as pd"
   ]
  },
  {
   "cell_type": "code",
   "execution_count": 109,
   "id": "864bb655",
   "metadata": {},
   "outputs": [],
   "source": [
    "df = pd.read_csv('YouTubeCA.csv')"
   ]
  },
  {
   "cell_type": "code",
   "execution_count": 110,
   "id": "b47ae3c9",
   "metadata": {},
   "outputs": [
    {
     "name": "stdout",
     "output_type": "stream",
     "text": [
      "['videoid', 'trendingdate', 'title', 'channeltitle', 'categoryid', 'publishtime', 'tags', 'views', 'likes', 'dislikes', 'commentcount', 'commentsdisabled', 'ratingsdisabled', 'videoerrororremoved']\n"
     ]
    }
   ],
   "source": [
    "print(list(df))"
   ]
  },
  {
   "cell_type": "code",
   "execution_count": 111,
   "id": "f6935776",
   "metadata": {},
   "outputs": [
    {
     "name": "stdout",
     "output_type": "stream",
     "text": [
      "3202\n"
     ]
    }
   ],
   "source": [
    "print(len(df.channeltitle.unique()))"
   ]
  },
  {
   "cell_type": "code",
   "execution_count": null,
   "id": "d52aa5c8",
   "metadata": {},
   "outputs": [],
   "source": []
  },
  {
   "cell_type": "code",
   "execution_count": 112,
   "id": "a7b9715e",
   "metadata": {},
   "outputs": [],
   "source": [
    "pivot= pd.pivot_table(lk, index=['channeltitle'],values=['likes'])"
   ]
  },
  {
   "cell_type": "code",
   "execution_count": 113,
   "id": "1d32d047",
   "metadata": {},
   "outputs": [
    {
     "name": "stdout",
     "output_type": "stream",
     "text": [
      "                            likes\n",
      "channeltitle                     \n",
      "*Martyna*              174.666667\n",
      "0b1knob                336.000000\n",
      "10MillionTM           6793.000000\n",
      "1stOnKpop             5251.000000\n",
      "1theK(ì›”ì€ì)    104864.400000\n",
      "...                           ...\n",
      "ììì (LeeYoungAe)     426.500000\n",
      "ì—‰ìŠTV                432.500000\n",
      "Œ¬ìƒì„„             6878.000000\n",
      "…                     6502.000000\n",
      "…¹¨Š                  4036.000000\n",
      "\n",
      "[3202 rows x 1 columns]\n"
     ]
    }
   ],
   "source": [
    "print(pivot)"
   ]
  },
  {
   "cell_type": "code",
   "execution_count": 114,
   "id": "44edebf7",
   "metadata": {},
   "outputs": [
    {
     "name": "stdout",
     "output_type": "stream",
     "text": [
      "                         likes\n",
      "channeltitle                  \n",
      "ibighit           2.086642e+06\n",
      "DrakeVEVO         2.027493e+06\n",
      "YouTubeSpotlight  1.857004e+06\n",
      "TaylorSwiftVEVO   1.342550e+06\n",
      "BrunoMars         1.211542e+06\n",
      "...                        ...\n",
      "CREAACI           0.000000e+00\n",
      "Nikadnijekasno    0.000000e+00\n",
      "BeatFilms         0.000000e+00\n",
      "HanhN             0.000000e+00\n",
      "EDMMedia          0.000000e+00\n",
      "\n",
      "[3202 rows x 1 columns]\n"
     ]
    }
   ],
   "source": [
    "lk=pivot.sort_values(by='likes', ascending = False)\n",
    "print(lk)"
   ]
  },
  {
   "cell_type": "code",
   "execution_count": 115,
   "id": "404b03ae",
   "metadata": {},
   "outputs": [
    {
     "name": "stdout",
     "output_type": "stream",
     "text": [
      "                                                    videoerrororremoved\n",
      "title                                                                  \n",
      "$1.145iPhoneCase                                                    0.0\n",
      "$1.400WoodenKeyboardvs.a$40one                                      0.0\n",
      "$1.977JapaneseGrapes                                                0.0\n",
      "$100DOLLARPho&$100BA¡nhmA¬inSaigonVietnam                           0.0\n",
      "$10GameDayFoodVs.$456GameDayFoodSuperBowl2018                       0.0\n",
      "...                                                                 ...\n",
      "œJudgeJudyJanuary2018œ7                                             0.0\n",
      "œJudgeJudy·Novemberœ259                                             0.0\n",
      "œTheBachelor™sKendallandTiaonArie™sShockingBrea...                  0.0\n",
      "œWeloveworkingtogetherVirtue&Moironwhatcomesnex...                  0.0\n",
      "—‡DaangFullHDSongVideo—‡MankiratAulakhFt.MixSin...                  0.0\n",
      "\n",
      "[12227 rows x 1 columns]\n"
     ]
    }
   ],
   "source": [
    "pivot= pd.pivot_table(df, index=['title'],values=['videoerrororremoved'])\n",
    "print(pivot)"
   ]
  },
  {
   "cell_type": "code",
   "execution_count": 116,
   "id": "6ca26b2e",
   "metadata": {
    "scrolled": true
   },
   "outputs": [
    {
     "name": "stdout",
     "output_type": "stream",
     "text": [
      "                                                    videoerrororremoved\n",
      "title                                                                  \n",
      "Deletedvideo                                                        1.0\n",
      "Youth&Consequences(Ep2)TheHangingChadwickPart2                      1.0\n",
      "$1.145iPhoneCase                                                    0.0\n",
      "QClearanceAnonIsithappening?XIV                                     0.0\n",
      "QANONCONFIRMEDBYTRUMP....AGAINCATCH&RELEASESAUD...                  0.0\n",
      "...                                                                 ...\n",
      "GordonRamsayvsTheElderly                                            0.0\n",
      "GordonisServedHideousRAWLambLollipopsKitchenNig...                  0.0\n",
      "GordonisServed€œTheWeirdestPizzaI€™veEverSeenKi...                  0.0\n",
      "GordonsChicken€PrankFoolsStubbornOwnerHotelHell                     0.0\n",
      "—‡DaangFullHDSongVideo—‡MankiratAulakhFt.MixSin...                  0.0\n",
      "\n",
      "[12227 rows x 1 columns]\n"
     ]
    }
   ],
   "source": [
    "VE= pivot.sort_values(by='videoerrororremoved', ascending = False)\n",
    "print(VE)"
   ]
  },
  {
   "cell_type": "code",
   "execution_count": 117,
   "id": "86158f3a",
   "metadata": {},
   "outputs": [],
   "source": [
    "pivot= pd.pivot_table(df, index=['title'],values=['views'])"
   ]
  },
  {
   "cell_type": "code",
   "execution_count": 118,
   "id": "c5ecaa6f",
   "metadata": {},
   "outputs": [
    {
     "name": "stdout",
     "output_type": "stream",
     "text": [
      "                                                           views\n",
      "title                                                           \n",
      "YouTubeRewindTheShapeof2017YouTubeRewind            9.020405e+07\n",
      "MarvelStudiosAvengersInfinityWarOfficialTrailer     7.219415e+07\n",
      "NickyJamxJ.BalvinX(EQUIS)VideoOficialProd.AfroB...  5.087613e+07\n",
      "ToOurDaughter                                       4.037545e+07\n",
      "LuisFonsi.DemiLovatoA‰chameLaCulpa                  3.821427e+07\n",
      "...                                                          ...\n",
      "MapleLeafsPostGameKasperiKapanenFebruary7.2018      1.369000e+03\n",
      "RPA‡A‰PISODE9BENLEFEBVRE                            1.295000e+03\n",
      "Goodvybzonly                                        1.187000e+03\n",
      "018AlgebraLineal18102011                            1.141000e+03\n",
      "RaptorsPostGameDeMarDeRozanFebruary13.2018          1.023000e+03\n",
      "\n",
      "[12227 rows x 1 columns]\n"
     ]
    }
   ],
   "source": [
    "Vw= pivot.sort_values(by='views', ascending = False)\n",
    "print(Vw)"
   ]
  },
  {
   "cell_type": "code",
   "execution_count": 119,
   "id": "92eb8c8b",
   "metadata": {},
   "outputs": [
    {
     "data": {
      "text/plain": [
       "<Axes: title={'center': 'Tipos de categorias'}>"
      ]
     },
     "execution_count": 119,
     "metadata": {},
     "output_type": "execute_result"
    },
    {
     "data": {
      "image/png": "[encoded data removed]",
      "text/plain": [
       "<Figure size 640x480 with 1 Axes>"
      ]
     },
     "metadata": {},
     "output_type": "display_data"
    }
   ],
   "source": [
    "df['categoryid'].value_counts().plot(kind='bar',title='Tipos de categorias')"
   ]
  },
  {
   "cell_type": "code",
   "execution_count": 120,
   "id": "bf4a92f2",
   "metadata": {},
   "outputs": [
    {
     "data": {
      "text/plain": [
       "<Axes: title={'center': 'videoerrororremoved'}, ylabel='videoerrororremoved'>"
      ]
     },
     "execution_count": 120,
     "metadata": {},
     "output_type": "execute_result"
    },
    {
     "data": {
      "image/png": "[encoded data removed]",
      "text/plain": [
       "<Figure size 640x480 with 1 Axes>"
      ]
     },
     "metadata": {},
     "output_type": "display_data"
    }
   ],
   "source": [
    "df['videoerrororremoved'].value_counts().plot(kind='pie', title='videoerrororremoved')"
   ]
  },
  {
   "cell_type": "code",
   "execution_count": 121,
   "id": "a15ba216",
   "metadata": {},
   "outputs": [
    {
     "name": "stdout",
     "output_type": "stream",
     "text": [
      "                       dislikes\n",
      "channeltitle                   \n",
      "*Martyna*              4.333333\n",
      "0b1knob               26.000000\n",
      "10MillionTM          126.000000\n",
      "1stOnKpop             40.000000\n",
      "1theK(ì›”ì€ì)    1366.000000\n",
      "...                         ...\n",
      "ììì (LeeYoungAe)    48.000000\n",
      "ì—‰ìŠTV              414.000000\n",
      "Œ¬ìƒì„„            365.000000\n",
      "…                    582.000000\n",
      "…¹¨Š                 275.500000\n",
      "\n",
      "[3202 rows x 1 columns]\n"
     ]
    }
   ],
   "source": [
    "pivot= pd.pivot_table(df, index=['channeltitle'],values=['dislikes'])\n",
    "print(pivot)"
   ]
  },
  {
   "cell_type": "code",
   "execution_count": 122,
   "id": "2699c399",
   "metadata": {},
   "outputs": [
    {
     "name": "stdout",
     "output_type": "stream",
     "text": [
      "                                  dislikes\n",
      "channeltitle                              \n",
      "YouTubeSpotlight             941179.666667\n",
      "DailyCaller                  163561.333333\n",
      "JakePaul                      95142.902439\n",
      "shakiraVEVO                   91951.200000\n",
      "KatyPerryVEVO                 91091.200000\n",
      "...                                    ...\n",
      "JYClub.TVæ²è„–å­çš„çäººæ®º       0.000000\n",
      "ThePlayersTribune                 0.000000\n",
      "HollywoodToYou                    0.000000\n",
      "Yoan                              0.000000\n",
      "HeadupGames                       0.000000\n",
      "\n",
      "[3202 rows x 1 columns]\n"
     ]
    }
   ],
   "source": [
    "dis= pivot.sort_values(by='dislikes', ascending = False)\n",
    "print(dis)"
   ]
  },
  {
   "cell_type": "code",
   "execution_count": null,
   "id": "0cc494d1",
   "metadata": {},
   "outputs": [],
   "source": []
  },
  {
   "cell_type": "code",
   "execution_count": null,
   "id": "3068f339",
   "metadata": {},
   "outputs": [],
   "source": []
  }
 ],
 "metadata": {
  "kernelspec": {
   "display_name": "Python 3 (ipykernel)",
   "language": "python",
   "name": "python3"
  },
  "language_info": {
   "codemirror_mode": {
    "name": "ipython",
    "version": 3
   },
   "file_extension": ".py",
   "mimetype": "text/x-python",
   "name": "python",
   "nbconvert_exporter": "python",
   "pygments_lexer": "ipython3",
   "version": "3.11.3"
  }
 },
 "nbformat": 4,
 "nbformat_minor": 5
}
